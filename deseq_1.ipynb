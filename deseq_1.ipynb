{
 "cells": [
  {
   "cell_type": "markdown",
   "metadata": {},
   "source": [
    "# DESeq Workshop 1 -  Standard Analyses for RNA-seq Data (unsupervised)\n",
    "\n",
    "\n",
    "# Abstract\n",
    "\n",
    "This workshop introduces RNA-seq analysis using R, including the (Ranged)SummarizedExperiment data class, exploratory data analysis and visualizations, data transformations, and querying biomaRt for annotation information.\n",
    "\n",
    "This workshop uses quotes and materials from [RNA-seq workflow: gene-level exploratory analysis and differential expression](https://www.bioconductor.org/help/workflows/rnaseqGene/) by Love, Anders, Kim, and Huber. The notebook is forked and modified from [two notebooks originally created by Levi Waldron](https://github.com/compbiocore/bioconductor-workshop-2). The remaining material will be adapted into a second workshop on differential expression analysis with DESeq2 at a later date.\n",
    "\n",
    "# Outline\n",
    "\n",
    "1. Introduction to RNA-seq Data\n",
    "    * What is RNAseq?\n",
    "        * Some more resources about sequencing technologies\n",
    "    * Computational workflow overview\n",
    "2. Standard data types\n",
    "    * Counts matrices\n",
    "    * SummarizedExperiment\n",
    "        * Creating a SummarizedExperiment object from scratch\n",
    "3. Exploring the Airway dataset\n",
    "    * Creating a DESeqDataSet\n",
    "    * Filtering genes not satisfying a minimum expression threshold\n",
    "    * Data transformation\n",
    "    * Exploring data at the sample level\n",
    "        * Boxplots\n",
    "        * Correlation plots\n",
    "        * Density plots\n",
    "        * PCA\n",
    "        * MDS\n",
    "4. Using biomaRt"
   ]
  },
  {
   "cell_type": "markdown",
   "metadata": {},
   "source": [
    "\n",
    "#  Introduction to RNAseq\n",
    "\n",
    "## What is RNAseq?\n",
    "\n",
    "The central dogma of biology refers to the concept that in general, biological information flows from DNA to RNA to proteins, which are the molecules that encode for various enzymes etc., that help a living organism maintain homeostasis and self-regulate. For this workshop, we are going to talk about analyzing transcriptome data, where genes are regulated at the level of DNA being transcribed into RNA.\n",
    "\n",
    "The general experimental process involves extracting RNA from your different experimental conditions, performing the library preparation steps (e.g., cDNA synthesis, fragmentation, and adding adapters). These libraries are sequenced on an Illumina FlowCell. The output from this process is these raw reads (.fastq or .fq files), which you can then align to the appropriate reference genome or transcriptome, where more reads will align to more highly expressed genes. This data can be processed to get back a counts matrix which will let you look at differential expression and perform other downstream analyses.\n",
    "\n",
    "<img src=\"https://upload.wikimedia.org/wikipedia/commons/thumb/9/97/Journal.pcbi.1004393.g002.png/2560px-Journal.pcbi.1004393.g002.png\">\n",
    "\n",
    "### Some more resources about sequencing technologies:\n",
    "+ https://www.illumina.com/content/dam/illumina-marketing/documents/products/illumina_sequencing_introduction.pdf      \n",
    "+ Rory Stark, Marta Grezlak, and James Hadfield. NA sequencing: the teenage years Nature Reviews Genetics *Nature Reviews Genetics* **20,** 631-656 (2019)      \n",
    "\n",
    "## Computational workflow overview\n",
    "\n",
    "The computational analysis of an RNA-seq experiment begins from the raw FASTQ files that contain the nucleotide sequence of each read and a quality score at each position. These reads are **aligned** to a reference genome and the alignment files (.SAM or .BAM file) are turned into a counts matrix by programs such as HTSeq or featureCounts. Some newer and very fast alignment-free approaches can also estimate counts per transcript **without alignment**. Instead of directly aligning RNA-seq reads to a reference genome, they perform \"pseudo-alignment\" by assigning reads to transcripts that contain compatible k-mers and generate a table of read counts without the need for a counting step.\n",
    "\n",
    "<img src=\"images/rnaseq_workflow.png\">\n",
    "\n",
    "There are many different programs for running alignment-based quantification. Each alignment program will make different assumptions about the data and will show some variation in performance. For example, not all aligners are 'splice-aware', which means that they will recognize intron-sized gaps that are spliced from transcripts. Some popular alignment-based tools include [STAR](https://github.com/alexdobin/STAR), [HISAT2](https://daehwankimlab.github.io/hisat2/), [GSNAP/GMAP](http://research-pub.gene.com/gmap/), among many others. Counts can be generated from SAM/BAM alignments using programs such as [featureCounts](http://bioinf.wehi.edu.au/featureCounts/) or [HTSeq](https://htseq.readthedocs.io/en/master/). \n",
    "\n",
    "<div class=\"alert alert-block alert-info\"><b>Note:</b> The information you get back from directly aligning RNAseq reads to a genome will be dependent on the quality of the annotations, which are not always great (especially for non-model organisms). </div>\n",
    "\n",
    "Alignment-free tools have gained popularity for their fast performance and low memory requirements while maintaining good accuracy.  The most popular of these tools are [Salmon](https://combine-lab.github.io) and [Kallisto](https://pachterlab.github.io/kallisto/). \n",
    "\n",
    "The differential expression analyses introduced here assume you are analyzing a raw counts table, where the rows are the genes or transcripts and the columns are your samples. It is always a good idea to read the documentation for any of these programs to make sure you understand what file formats should be used. The two most popular programs for  differential expression analyses are probably [DESeq2](http://bioconductor.org/packages/DESeq2) and [edgeR](http://bioconductor.org/packages/). Each program makes different assumptions and has different approaches to normalizing the data, and they will likely give you slightly different numbers of differentially expressed genes if you run both programs. \n",
    "\n",
    "The counts matrices can also be transformed so that they are compatible with common statistical methods for exploratory analysis of multidimensional data, for example clustering and principal components analysis (PCA), which work best for data that have the same variance at different mean values, i.e. the mean and variance are independent.\n",
    "\n",
    "<div class=\"alert alert-block alert-info\"><b>Note:</b> The rest of this workshop assumes you are starting with the output of some sequence analysis pipeline (i.e. counts). </div> \n"
   ]
  },
  {
   "cell_type": "markdown",
   "metadata": {},
   "source": [
    "# Standard data types\n",
    "\n",
    "## Counts matrices\n",
    "The counts matrix is a simple, standard way to represent RNAseq experiments. The rows correspond to genes, the columns correspond to each sample, and the data are the counts.\n",
    "\n",
    "<img src=\"images/counts_matrix.png\" width=\"300\">\n",
    " \n",
    "## SummarizedExperiment\n",
    "\n",
    "The SummarizedExperiment is a data class for representing RNA-seq data. It builds on a simple counts matrix to include information about samples. It can also optionally include information about exons and genes, the experimental design, and additional metadata.\n",
    "\n",
    "**The component parts of a *SummarizedExperiment* object `se` are:** \n",
    "\n",
    "* `assay(se)` or `assays(se)$counts` contains the matrix of counts\n",
    "* `colData(se)` may contain data about the columns, e.g. patients or biological units\n",
    "* `rowData(se)` may contain data about the rows, e.g. genes or transcript\n",
    "* `rowRanges(se)` may contain genomic ranges for the genes/transcripts\n",
    "* `metadata(se)` may contain information about the experiment\n",
    "\n",
    "<img src=\"images/summarizedexperiment.png\">"
   ]
  },
  {
   "cell_type": "markdown",
   "metadata": {},
   "source": [
    "Load the `airway` and `SummarizedExperiment` packages."
   ]
  },
  {
   "cell_type": "code",
   "execution_count": 2,
   "metadata": {},
   "outputs": [],
   "source": [
    "suppressMessages(library(airway))\n",
    "suppressMessages(library(SummarizedExperiment))"
   ]
  },
  {
   "cell_type": "markdown",
   "metadata": {},
   "source": [
    "For the purposes of this tutorial, we will be using the `airway` data. This data is in the `airway` package, stored as a `RangedSummarizedExperiment` object -- a type of `SummarizedExperiment`. Four human airway smooth muscle cell lines were left untreated or treatreated with dexamethasone for 18 hours (Himes et al. 2014)."
   ]
  },
  {
   "cell_type": "code",
   "execution_count": 3,
   "metadata": {},
   "outputs": [
    {
     "data": {
      "text/plain": [
       "class: RangedSummarizedExperiment \n",
       "dim: 64102 8 \n",
       "metadata(1): ''\n",
       "assays(1): counts\n",
       "rownames(64102): ENSG00000000003 ENSG00000000005 ... LRG_98 LRG_99\n",
       "rowData names(0):\n",
       "colnames(8): SRR1039508 SRR1039509 ... SRR1039520 SRR1039521\n",
       "colData names(9): SampleName cell ... Sample BioSample"
      ]
     },
     "metadata": {},
     "output_type": "display_data"
    }
   ],
   "source": [
    "data(airway)\n",
    "airway"
   ]
  },
  {
   "cell_type": "markdown",
   "metadata": {},
   "source": [
    "Use the `assays` function to see the names of the assays stored in the object."
   ]
  },
  {
   "cell_type": "code",
   "execution_count": 4,
   "metadata": {},
   "outputs": [
    {
     "data": {
      "text/plain": [
       "List of length 1\n",
       "names(1): counts"
      ]
     },
     "metadata": {},
     "output_type": "display_data"
    }
   ],
   "source": [
    "assays(airway)"
   ]
  },
  {
   "cell_type": "markdown",
   "metadata": {},
   "source": [
    "We can use the `$` accessor to view the `counts` assay. We will combine that with `head` and `assay` functions to access the first view rows of the counts matrix. The rows are genes, the columns are the samples, and the data are the counts:"
   ]
  },
  {
   "cell_type": "code",
   "execution_count": 5,
   "metadata": {},
   "outputs": [
    {
     "data": {
      "text/html": [
       "<table>\n",
       "<caption>A matrix: 6 × 8 of type int</caption>\n",
       "<thead>\n",
       "\t<tr><th></th><th scope=col>SRR1039508</th><th scope=col>SRR1039509</th><th scope=col>SRR1039512</th><th scope=col>SRR1039513</th><th scope=col>SRR1039516</th><th scope=col>SRR1039517</th><th scope=col>SRR1039520</th><th scope=col>SRR1039521</th></tr>\n",
       "</thead>\n",
       "<tbody>\n",
       "\t<tr><th scope=row>ENSG00000000003</th><td>679</td><td>448</td><td>873</td><td>408</td><td>1138</td><td>1047</td><td>770</td><td>572</td></tr>\n",
       "\t<tr><th scope=row>ENSG00000000005</th><td>  0</td><td>  0</td><td>  0</td><td>  0</td><td>   0</td><td>   0</td><td>  0</td><td>  0</td></tr>\n",
       "\t<tr><th scope=row>ENSG00000000419</th><td>467</td><td>515</td><td>621</td><td>365</td><td> 587</td><td> 799</td><td>417</td><td>508</td></tr>\n",
       "\t<tr><th scope=row>ENSG00000000457</th><td>260</td><td>211</td><td>263</td><td>164</td><td> 245</td><td> 331</td><td>233</td><td>229</td></tr>\n",
       "\t<tr><th scope=row>ENSG00000000460</th><td> 60</td><td> 55</td><td> 40</td><td> 35</td><td>  78</td><td>  63</td><td> 76</td><td> 60</td></tr>\n",
       "\t<tr><th scope=row>ENSG00000000938</th><td>  0</td><td>  0</td><td>  2</td><td>  0</td><td>   1</td><td>   0</td><td>  0</td><td>  0</td></tr>\n",
       "</tbody>\n",
       "</table>\n"
      ],
      "text/latex": [
       "A matrix: 6 × 8 of type int\n",
       "\\begin{tabular}{r|llllllll}\n",
       "  & SRR1039508 & SRR1039509 & SRR1039512 & SRR1039513 & SRR1039516 & SRR1039517 & SRR1039520 & SRR1039521\\\\\n",
       "\\hline\n",
       "\tENSG00000000003 & 679 & 448 & 873 & 408 & 1138 & 1047 & 770 & 572\\\\\n",
       "\tENSG00000000005 &   0 &   0 &   0 &   0 &    0 &    0 &   0 &   0\\\\\n",
       "\tENSG00000000419 & 467 & 515 & 621 & 365 &  587 &  799 & 417 & 508\\\\\n",
       "\tENSG00000000457 & 260 & 211 & 263 & 164 &  245 &  331 & 233 & 229\\\\\n",
       "\tENSG00000000460 &  60 &  55 &  40 &  35 &   78 &   63 &  76 &  60\\\\\n",
       "\tENSG00000000938 &   0 &   0 &   2 &   0 &    1 &    0 &   0 &   0\\\\\n",
       "\\end{tabular}\n"
      ],
      "text/markdown": [
       "\n",
       "A matrix: 6 × 8 of type int\n",
       "\n",
       "| <!--/--> | SRR1039508 | SRR1039509 | SRR1039512 | SRR1039513 | SRR1039516 | SRR1039517 | SRR1039520 | SRR1039521 |\n",
       "|---|---|---|---|---|---|---|---|---|\n",
       "| ENSG00000000003 | 679 | 448 | 873 | 408 | 1138 | 1047 | 770 | 572 |\n",
       "| ENSG00000000005 |   0 |   0 |   0 |   0 |    0 |    0 |   0 |   0 |\n",
       "| ENSG00000000419 | 467 | 515 | 621 | 365 |  587 |  799 | 417 | 508 |\n",
       "| ENSG00000000457 | 260 | 211 | 263 | 164 |  245 |  331 | 233 | 229 |\n",
       "| ENSG00000000460 |  60 |  55 |  40 |  35 |   78 |   63 |  76 |  60 |\n",
       "| ENSG00000000938 |   0 |   0 |   2 |   0 |    1 |    0 |   0 |   0 |\n",
       "\n"
      ],
      "text/plain": [
       "                SRR1039508 SRR1039509 SRR1039512 SRR1039513 SRR1039516\n",
       "ENSG00000000003 679        448        873        408        1138      \n",
       "ENSG00000000005   0          0          0          0           0      \n",
       "ENSG00000000419 467        515        621        365         587      \n",
       "ENSG00000000457 260        211        263        164         245      \n",
       "ENSG00000000460  60         55         40         35          78      \n",
       "ENSG00000000938   0          0          2          0           1      \n",
       "                SRR1039517 SRR1039520 SRR1039521\n",
       "ENSG00000000003 1047       770        572       \n",
       "ENSG00000000005    0         0          0       \n",
       "ENSG00000000419  799       417        508       \n",
       "ENSG00000000457  331       233        229       \n",
       "ENSG00000000460   63        76         60       \n",
       "ENSG00000000938    0         0          0       "
      ]
     },
     "metadata": {},
     "output_type": "display_data"
    }
   ],
   "source": [
    "head(assays(airway)$counts)"
   ]
  },
  {
   "cell_type": "markdown",
   "metadata": {},
   "source": [
    "Use the `colData` function to see more information about each sample:"
   ]
  },
  {
   "cell_type": "code",
   "execution_count": 6,
   "metadata": {},
   "outputs": [
    {
     "data": {
      "text/plain": [
       "DataFrame with 6 rows and 9 columns\n",
       "           SampleName     cell      dex    albut        Run avgLength\n",
       "             <factor> <factor> <factor> <factor>   <factor> <integer>\n",
       "SRR1039508 GSM1275862  N61311     untrt    untrt SRR1039508       126\n",
       "SRR1039509 GSM1275863  N61311     trt      untrt SRR1039509       126\n",
       "SRR1039512 GSM1275866  N052611    untrt    untrt SRR1039512       126\n",
       "SRR1039513 GSM1275867  N052611    trt      untrt SRR1039513        87\n",
       "SRR1039516 GSM1275870  N080611    untrt    untrt SRR1039516       120\n",
       "SRR1039517 GSM1275871  N080611    trt      untrt SRR1039517       126\n",
       "           Experiment    Sample    BioSample\n",
       "             <factor>  <factor>     <factor>\n",
       "SRR1039508  SRX384345 SRS508568 SAMN02422669\n",
       "SRR1039509  SRX384346 SRS508567 SAMN02422675\n",
       "SRR1039512  SRX384349 SRS508571 SAMN02422678\n",
       "SRR1039513  SRX384350 SRS508572 SAMN02422670\n",
       "SRR1039516  SRX384353 SRS508575 SAMN02422682\n",
       "SRR1039517  SRX384354 SRS508576 SAMN02422673"
      ]
     },
     "metadata": {},
     "output_type": "display_data"
    }
   ],
   "source": [
    "head(colData(airway))"
   ]
  },
  {
   "cell_type": "markdown",
   "metadata": {},
   "source": [
    "You can use the `$` accessor to access the individual columns (like you would with a data frame)."
   ]
  },
  {
   "cell_type": "code",
   "execution_count": 7,
   "metadata": {},
   "outputs": [
    {
     "data": {
      "text/html": [
       "<style>\n",
       ".list-inline {list-style: none; margin:0; padding: 0}\n",
       ".list-inline>li {display: inline-block}\n",
       ".list-inline>li:not(:last-child)::after {content: \"\\00b7\"; padding: 0 .5ex}\n",
       "</style>\n",
       "<ol class=list-inline><li>'trt'</li><li>'untrt'</li></ol>\n"
      ],
      "text/latex": [
       "\\begin{enumerate*}\n",
       "\\item 'trt'\n",
       "\\item 'untrt'\n",
       "\\end{enumerate*}\n"
      ],
      "text/markdown": [
       "1. 'trt'\n",
       "2. 'untrt'\n",
       "\n",
       "\n"
      ],
      "text/plain": [
       "[1] \"trt\"   \"untrt\""
      ]
     },
     "metadata": {},
     "output_type": "display_data"
    }
   ],
   "source": [
    "levels(colData(airway)$dex)"
   ]
  },
  {
   "cell_type": "markdown",
   "metadata": {},
   "source": [
    "### Creating a SummarizedExperiment object from scratch"
   ]
  },
  {
   "cell_type": "markdown",
   "metadata": {},
   "source": [
    "You can create `SummarizedExperiment` objects using the `SummarizedExperiment` function. The `assay` and `colData` arguments are required. "
   ]
  },
  {
   "cell_type": "code",
   "execution_count": 8,
   "metadata": {},
   "outputs": [
    {
     "data": {
      "text/plain": [
       "class: SummarizedExperiment \n",
       "dim: 64102 8 \n",
       "metadata(0):\n",
       "assays(1): ''\n",
       "rownames(64102): ENSG00000000003 ENSG00000000005 ... LRG_98 LRG_99\n",
       "rowData names(0):\n",
       "colnames(8): SRR1039508 SRR1039509 ... SRR1039520 SRR1039521\n",
       "colData names(9): SampleName cell ... Sample BioSample"
      ]
     },
     "metadata": {},
     "output_type": "display_data"
    }
   ],
   "source": [
    "airway_counts <- assay(airway)\n",
    "airway_samples <- colData(airway)\n",
    "new_se <- SummarizedExperiment(assays = airway_counts, \n",
    "                               colData = airway_samples)\n",
    "new_se"
   ]
  },
  {
   "cell_type": "markdown",
   "metadata": {},
   "source": [
    "Use `?` to get more information about the function:"
   ]
  },
  {
   "cell_type": "code",
   "execution_count": 9,
   "metadata": {},
   "outputs": [],
   "source": [
    "?SummarizedExperiment"
   ]
  },
  {
   "cell_type": "markdown",
   "metadata": {},
   "source": [
    "<div class=\"alert alert-block alert-success\"><b>Exercise:</b> How would you create a new SummarizedExperiment object that contains information about the genes in the airway data (e.g., the rows)? What about additional metadata? </div>"
   ]
  },
  {
   "cell_type": "code",
   "execution_count": 10,
   "metadata": {},
   "outputs": [
    {
     "data": {
      "text/plain": [
       "class: RangedSummarizedExperiment \n",
       "dim: 64102 8 \n",
       "metadata(1): ''\n",
       "assays(1): ''\n",
       "rownames(64102): ENSG00000000003 ENSG00000000005 ... LRG_98 LRG_99\n",
       "rowData names(0):\n",
       "colnames(8): SRR1039508 SRR1039509 ... SRR1039520 SRR1039521\n",
       "colData names(9): SampleName cell ... Sample BioSample"
      ]
     },
     "metadata": {},
     "output_type": "display_data"
    }
   ],
   "source": [
    "airway_ranges <- rowRanges(airway)\n",
    "airway_metadata <- metadata(airway)\n",
    "new_se <- SummarizedExperiment(assays = airway_counts, \n",
    "                               colData = airway_samples, \n",
    "                               rowRanges = airway_ranges,\n",
    "                               metadata = airway_metadata)\n",
    "new_se"
   ]
  },
  {
   "cell_type": "markdown",
   "metadata": {},
   "source": [
    "# Exploring the airway dataset\n",
    "\n",
    "Exploratory data analysis of RNAseq data is an important step for assessing data quality. You can look at the expression of genes of interest or relationships/similarities among sample groupings. Filtering and exploring your data is an iterative process; as you explore and visualize your data you can tweak your filtering parameters to see how the filtering impacts the results."
   ]
  },
  {
   "cell_type": "markdown",
   "metadata": {},
   "source": [
    "## Creating a `DESeqDataSet`\n",
    "\n",
    "Once we have our fully annotated *SummarizedExperiment* object,\n",
    "we can construct a *DESeqDataSet* object from it that will then form\n",
    "the starting point of the exploratory analysis. Here, `~ cell + dex` means that we are concerned with two covariates, the cell line (`cell`) and whether or not the samples were treated with dexamethasone (`dex`)."
   ]
  },
  {
   "cell_type": "code",
   "execution_count": 11,
   "metadata": {},
   "outputs": [],
   "source": [
    "suppressPackageStartupMessages(library(DESeq2))\n",
    "suppressPackageStartupMessages(library(tidyr))\n",
    "suppressPackageStartupMessages(library(ggplot2))"
   ]
  },
  {
   "cell_type": "code",
   "execution_count": 12,
   "metadata": {},
   "outputs": [],
   "source": [
    "dds <- DESeqDataSet(airway, design = ~ cell + dex)"
   ]
  },
  {
   "cell_type": "markdown",
   "metadata": {},
   "source": [
    "## Filtering genes not satisfying a minimum expression threshold\n",
    "\n",
    "Our count matrix might contain rows with only zeroes or genes that are very lowly expressed in every condition tested. These genes are not likely to be informative, so to reduce the size of the object we can remove these rows.\n",
    "Here, we remove rows of the *DESeqDataSet* that\n",
    "have no counts, or only a single count across **all** samples. First, we can use `nrow` to see how many genes are in the dataset before we filter:\n"
   ]
  },
  {
   "cell_type": "code",
   "execution_count": 13,
   "metadata": {},
   "outputs": [
    {
     "data": {
      "text/html": [
       "64102"
      ],
      "text/latex": [
       "64102"
      ],
      "text/markdown": [
       "64102"
      ],
      "text/plain": [
       "[1] 64102"
      ]
     },
     "metadata": {},
     "output_type": "display_data"
    }
   ],
   "source": [
    "nrow(dds)"
   ]
  },
  {
   "cell_type": "markdown",
   "metadata": {},
   "source": [
    "Let's re-assign `dds` to `dds.original` before we do any filtering."
   ]
  },
  {
   "cell_type": "code",
   "execution_count": 14,
   "metadata": {},
   "outputs": [],
   "source": [
    "dds.original <- dds"
   ]
  },
  {
   "cell_type": "markdown",
   "metadata": {},
   "source": [
    "Look at the first few lines using `head`"
   ]
  },
  {
   "cell_type": "code",
   "execution_count": 15,
   "metadata": {},
   "outputs": [
    {
     "data": {
      "text/html": [
       "<table>\n",
       "<caption>A matrix: 6 × 8 of type int</caption>\n",
       "<thead>\n",
       "\t<tr><th></th><th scope=col>SRR1039508</th><th scope=col>SRR1039509</th><th scope=col>SRR1039512</th><th scope=col>SRR1039513</th><th scope=col>SRR1039516</th><th scope=col>SRR1039517</th><th scope=col>SRR1039520</th><th scope=col>SRR1039521</th></tr>\n",
       "</thead>\n",
       "<tbody>\n",
       "\t<tr><th scope=row>ENSG00000000003</th><td>679</td><td>448</td><td>873</td><td>408</td><td>1138</td><td>1047</td><td>770</td><td>572</td></tr>\n",
       "\t<tr><th scope=row>ENSG00000000005</th><td>  0</td><td>  0</td><td>  0</td><td>  0</td><td>   0</td><td>   0</td><td>  0</td><td>  0</td></tr>\n",
       "\t<tr><th scope=row>ENSG00000000419</th><td>467</td><td>515</td><td>621</td><td>365</td><td> 587</td><td> 799</td><td>417</td><td>508</td></tr>\n",
       "\t<tr><th scope=row>ENSG00000000457</th><td>260</td><td>211</td><td>263</td><td>164</td><td> 245</td><td> 331</td><td>233</td><td>229</td></tr>\n",
       "\t<tr><th scope=row>ENSG00000000460</th><td> 60</td><td> 55</td><td> 40</td><td> 35</td><td>  78</td><td>  63</td><td> 76</td><td> 60</td></tr>\n",
       "\t<tr><th scope=row>ENSG00000000938</th><td>  0</td><td>  0</td><td>  2</td><td>  0</td><td>   1</td><td>   0</td><td>  0</td><td>  0</td></tr>\n",
       "</tbody>\n",
       "</table>\n"
      ],
      "text/latex": [
       "A matrix: 6 × 8 of type int\n",
       "\\begin{tabular}{r|llllllll}\n",
       "  & SRR1039508 & SRR1039509 & SRR1039512 & SRR1039513 & SRR1039516 & SRR1039517 & SRR1039520 & SRR1039521\\\\\n",
       "\\hline\n",
       "\tENSG00000000003 & 679 & 448 & 873 & 408 & 1138 & 1047 & 770 & 572\\\\\n",
       "\tENSG00000000005 &   0 &   0 &   0 &   0 &    0 &    0 &   0 &   0\\\\\n",
       "\tENSG00000000419 & 467 & 515 & 621 & 365 &  587 &  799 & 417 & 508\\\\\n",
       "\tENSG00000000457 & 260 & 211 & 263 & 164 &  245 &  331 & 233 & 229\\\\\n",
       "\tENSG00000000460 &  60 &  55 &  40 &  35 &   78 &   63 &  76 &  60\\\\\n",
       "\tENSG00000000938 &   0 &   0 &   2 &   0 &    1 &    0 &   0 &   0\\\\\n",
       "\\end{tabular}\n"
      ],
      "text/markdown": [
       "\n",
       "A matrix: 6 × 8 of type int\n",
       "\n",
       "| <!--/--> | SRR1039508 | SRR1039509 | SRR1039512 | SRR1039513 | SRR1039516 | SRR1039517 | SRR1039520 | SRR1039521 |\n",
       "|---|---|---|---|---|---|---|---|---|\n",
       "| ENSG00000000003 | 679 | 448 | 873 | 408 | 1138 | 1047 | 770 | 572 |\n",
       "| ENSG00000000005 |   0 |   0 |   0 |   0 |    0 |    0 |   0 |   0 |\n",
       "| ENSG00000000419 | 467 | 515 | 621 | 365 |  587 |  799 | 417 | 508 |\n",
       "| ENSG00000000457 | 260 | 211 | 263 | 164 |  245 |  331 | 233 | 229 |\n",
       "| ENSG00000000460 |  60 |  55 |  40 |  35 |   78 |   63 |  76 |  60 |\n",
       "| ENSG00000000938 |   0 |   0 |   2 |   0 |    1 |    0 |   0 |   0 |\n",
       "\n"
      ],
      "text/plain": [
       "                SRR1039508 SRR1039509 SRR1039512 SRR1039513 SRR1039516\n",
       "ENSG00000000003 679        448        873        408        1138      \n",
       "ENSG00000000005   0          0          0          0           0      \n",
       "ENSG00000000419 467        515        621        365         587      \n",
       "ENSG00000000457 260        211        263        164         245      \n",
       "ENSG00000000460  60         55         40         35          78      \n",
       "ENSG00000000938   0          0          2          0           1      \n",
       "                SRR1039517 SRR1039520 SRR1039521\n",
       "ENSG00000000003 1047       770        572       \n",
       "ENSG00000000005    0         0          0       \n",
       "ENSG00000000419  799       417        508       \n",
       "ENSG00000000457  331       233        229       \n",
       "ENSG00000000460   63        76         60       \n",
       "ENSG00000000938    0         0          0       "
      ]
     },
     "metadata": {},
     "output_type": "display_data"
    }
   ],
   "source": [
    "head(counts(dds.original))"
   ]
  },
  {
   "cell_type": "markdown",
   "metadata": {},
   "source": [
    "Let's filter the expression matrix so we are including genes that have at least one fragment mapped in at least 1 sample (or `rowSums` greater than 1)."
   ]
  },
  {
   "cell_type": "code",
   "execution_count": 16,
   "metadata": {},
   "outputs": [],
   "source": [
    "dds <- dds[ rowSums(counts(dds)) > 1, ]"
   ]
  },
  {
   "cell_type": "markdown",
   "metadata": {},
   "source": [
    "Let's look at the first few rows:"
   ]
  },
  {
   "cell_type": "code",
   "execution_count": 17,
   "metadata": {},
   "outputs": [
    {
     "data": {
      "text/html": [
       "<table>\n",
       "<caption>A matrix: 6 × 8 of type int</caption>\n",
       "<thead>\n",
       "\t<tr><th></th><th scope=col>SRR1039508</th><th scope=col>SRR1039509</th><th scope=col>SRR1039512</th><th scope=col>SRR1039513</th><th scope=col>SRR1039516</th><th scope=col>SRR1039517</th><th scope=col>SRR1039520</th><th scope=col>SRR1039521</th></tr>\n",
       "</thead>\n",
       "<tbody>\n",
       "\t<tr><th scope=row>ENSG00000000003</th><td> 679</td><td> 448</td><td> 873</td><td> 408</td><td>1138</td><td> 1047</td><td> 770</td><td> 572</td></tr>\n",
       "\t<tr><th scope=row>ENSG00000000419</th><td> 467</td><td> 515</td><td> 621</td><td> 365</td><td> 587</td><td>  799</td><td> 417</td><td> 508</td></tr>\n",
       "\t<tr><th scope=row>ENSG00000000457</th><td> 260</td><td> 211</td><td> 263</td><td> 164</td><td> 245</td><td>  331</td><td> 233</td><td> 229</td></tr>\n",
       "\t<tr><th scope=row>ENSG00000000460</th><td>  60</td><td>  55</td><td>  40</td><td>  35</td><td>  78</td><td>   63</td><td>  76</td><td>  60</td></tr>\n",
       "\t<tr><th scope=row>ENSG00000000938</th><td>   0</td><td>   0</td><td>   2</td><td>   0</td><td>   1</td><td>    0</td><td>   0</td><td>   0</td></tr>\n",
       "\t<tr><th scope=row>ENSG00000000971</th><td>3251</td><td>3679</td><td>6177</td><td>4252</td><td>6721</td><td>11027</td><td>5176</td><td>7995</td></tr>\n",
       "</tbody>\n",
       "</table>\n"
      ],
      "text/latex": [
       "A matrix: 6 × 8 of type int\n",
       "\\begin{tabular}{r|llllllll}\n",
       "  & SRR1039508 & SRR1039509 & SRR1039512 & SRR1039513 & SRR1039516 & SRR1039517 & SRR1039520 & SRR1039521\\\\\n",
       "\\hline\n",
       "\tENSG00000000003 &  679 &  448 &  873 &  408 & 1138 &  1047 &  770 &  572\\\\\n",
       "\tENSG00000000419 &  467 &  515 &  621 &  365 &  587 &   799 &  417 &  508\\\\\n",
       "\tENSG00000000457 &  260 &  211 &  263 &  164 &  245 &   331 &  233 &  229\\\\\n",
       "\tENSG00000000460 &   60 &   55 &   40 &   35 &   78 &    63 &   76 &   60\\\\\n",
       "\tENSG00000000938 &    0 &    0 &    2 &    0 &    1 &     0 &    0 &    0\\\\\n",
       "\tENSG00000000971 & 3251 & 3679 & 6177 & 4252 & 6721 & 11027 & 5176 & 7995\\\\\n",
       "\\end{tabular}\n"
      ],
      "text/markdown": [
       "\n",
       "A matrix: 6 × 8 of type int\n",
       "\n",
       "| <!--/--> | SRR1039508 | SRR1039509 | SRR1039512 | SRR1039513 | SRR1039516 | SRR1039517 | SRR1039520 | SRR1039521 |\n",
       "|---|---|---|---|---|---|---|---|---|\n",
       "| ENSG00000000003 |  679 |  448 |  873 |  408 | 1138 |  1047 |  770 |  572 |\n",
       "| ENSG00000000419 |  467 |  515 |  621 |  365 |  587 |   799 |  417 |  508 |\n",
       "| ENSG00000000457 |  260 |  211 |  263 |  164 |  245 |   331 |  233 |  229 |\n",
       "| ENSG00000000460 |   60 |   55 |   40 |   35 |   78 |    63 |   76 |   60 |\n",
       "| ENSG00000000938 |    0 |    0 |    2 |    0 |    1 |     0 |    0 |    0 |\n",
       "| ENSG00000000971 | 3251 | 3679 | 6177 | 4252 | 6721 | 11027 | 5176 | 7995 |\n",
       "\n"
      ],
      "text/plain": [
       "                SRR1039508 SRR1039509 SRR1039512 SRR1039513 SRR1039516\n",
       "ENSG00000000003  679        448        873        408       1138      \n",
       "ENSG00000000419  467        515        621        365        587      \n",
       "ENSG00000000457  260        211        263        164        245      \n",
       "ENSG00000000460   60         55         40         35         78      \n",
       "ENSG00000000938    0          0          2          0          1      \n",
       "ENSG00000000971 3251       3679       6177       4252       6721      \n",
       "                SRR1039517 SRR1039520 SRR1039521\n",
       "ENSG00000000003  1047       770        572      \n",
       "ENSG00000000419   799       417        508      \n",
       "ENSG00000000457   331       233        229      \n",
       "ENSG00000000460    63        76         60      \n",
       "ENSG00000000938     0         0          0      \n",
       "ENSG00000000971 11027      5176       7995      "
      ]
     },
     "metadata": {},
     "output_type": "display_data"
    }
   ],
   "source": [
    "head(counts(dds))"
   ]
  },
  {
   "cell_type": "markdown",
   "metadata": {},
   "source": [
    "Notice that the gene that had zero counts in every sample (`ENSG00000000005`) is gone, but `ENSG00000000938` remains because it has a rowSum greater than 1. How many genes do we have left after filtering?"
   ]
  },
  {
   "cell_type": "code",
   "execution_count": 18,
   "metadata": {},
   "outputs": [
    {
     "data": {
      "text/html": [
       "29391"
      ],
      "text/latex": [
       "29391"
      ],
      "text/markdown": [
       "29391"
      ],
      "text/plain": [
       "[1] 29391"
      ]
     },
     "metadata": {},
     "output_type": "display_data"
    }
   ],
   "source": [
    "nrow(dds)"
   ]
  },
  {
   "cell_type": "markdown",
   "metadata": {},
   "source": [
    "Only 46% of the genes remain after performing this filtering step. A more stringent method of filtering, such as removing all genes that have any 0 count entries at all, would yield an even smaller percentage of genes. Let's look at the count densities from before and after filtering:"
   ]
  },
  {
   "cell_type": "code",
   "execution_count": 19,
   "metadata": {},
   "outputs": [
    {
     "data": {
      "text/html": [
       "<table>\n",
       "<caption>A matrix: 6 × 8 of type int</caption>\n",
       "<thead>\n",
       "\t<tr><th></th><th scope=col>SRR1039508</th><th scope=col>SRR1039509</th><th scope=col>SRR1039512</th><th scope=col>SRR1039513</th><th scope=col>SRR1039516</th><th scope=col>SRR1039517</th><th scope=col>SRR1039520</th><th scope=col>SRR1039521</th></tr>\n",
       "</thead>\n",
       "<tbody>\n",
       "\t<tr><th scope=row>ENSG00000000003</th><td>679</td><td>448</td><td>873</td><td>408</td><td>1138</td><td>1047</td><td>770</td><td>572</td></tr>\n",
       "\t<tr><th scope=row>ENSG00000000005</th><td>  0</td><td>  0</td><td>  0</td><td>  0</td><td>   0</td><td>   0</td><td>  0</td><td>  0</td></tr>\n",
       "\t<tr><th scope=row>ENSG00000000419</th><td>467</td><td>515</td><td>621</td><td>365</td><td> 587</td><td> 799</td><td>417</td><td>508</td></tr>\n",
       "\t<tr><th scope=row>ENSG00000000457</th><td>260</td><td>211</td><td>263</td><td>164</td><td> 245</td><td> 331</td><td>233</td><td>229</td></tr>\n",
       "\t<tr><th scope=row>ENSG00000000460</th><td> 60</td><td> 55</td><td> 40</td><td> 35</td><td>  78</td><td>  63</td><td> 76</td><td> 60</td></tr>\n",
       "\t<tr><th scope=row>ENSG00000000938</th><td>  0</td><td>  0</td><td>  2</td><td>  0</td><td>   1</td><td>   0</td><td>  0</td><td>  0</td></tr>\n",
       "</tbody>\n",
       "</table>\n"
      ],
      "text/latex": [
       "A matrix: 6 × 8 of type int\n",
       "\\begin{tabular}{r|llllllll}\n",
       "  & SRR1039508 & SRR1039509 & SRR1039512 & SRR1039513 & SRR1039516 & SRR1039517 & SRR1039520 & SRR1039521\\\\\n",
       "\\hline\n",
       "\tENSG00000000003 & 679 & 448 & 873 & 408 & 1138 & 1047 & 770 & 572\\\\\n",
       "\tENSG00000000005 &   0 &   0 &   0 &   0 &    0 &    0 &   0 &   0\\\\\n",
       "\tENSG00000000419 & 467 & 515 & 621 & 365 &  587 &  799 & 417 & 508\\\\\n",
       "\tENSG00000000457 & 260 & 211 & 263 & 164 &  245 &  331 & 233 & 229\\\\\n",
       "\tENSG00000000460 &  60 &  55 &  40 &  35 &   78 &   63 &  76 &  60\\\\\n",
       "\tENSG00000000938 &   0 &   0 &   2 &   0 &    1 &    0 &   0 &   0\\\\\n",
       "\\end{tabular}\n"
      ],
      "text/markdown": [
       "\n",
       "A matrix: 6 × 8 of type int\n",
       "\n",
       "| <!--/--> | SRR1039508 | SRR1039509 | SRR1039512 | SRR1039513 | SRR1039516 | SRR1039517 | SRR1039520 | SRR1039521 |\n",
       "|---|---|---|---|---|---|---|---|---|\n",
       "| ENSG00000000003 | 679 | 448 | 873 | 408 | 1138 | 1047 | 770 | 572 |\n",
       "| ENSG00000000005 |   0 |   0 |   0 |   0 |    0 |    0 |   0 |   0 |\n",
       "| ENSG00000000419 | 467 | 515 | 621 | 365 |  587 |  799 | 417 | 508 |\n",
       "| ENSG00000000457 | 260 | 211 | 263 | 164 |  245 |  331 | 233 | 229 |\n",
       "| ENSG00000000460 |  60 |  55 |  40 |  35 |   78 |   63 |  76 |  60 |\n",
       "| ENSG00000000938 |   0 |   0 |   2 |   0 |    1 |    0 |   0 |   0 |\n",
       "\n"
      ],
      "text/plain": [
       "                SRR1039508 SRR1039509 SRR1039512 SRR1039513 SRR1039516\n",
       "ENSG00000000003 679        448        873        408        1138      \n",
       "ENSG00000000005   0          0          0          0           0      \n",
       "ENSG00000000419 467        515        621        365         587      \n",
       "ENSG00000000457 260        211        263        164         245      \n",
       "ENSG00000000460  60         55         40         35          78      \n",
       "ENSG00000000938   0          0          2          0           1      \n",
       "                SRR1039517 SRR1039520 SRR1039521\n",
       "ENSG00000000003 1047       770        572       \n",
       "ENSG00000000005    0         0          0       \n",
       "ENSG00000000419  799       417        508       \n",
       "ENSG00000000457  331       233        229       \n",
       "ENSG00000000460   63        76         60       \n",
       "ENSG00000000938    0         0          0       "
      ]
     },
     "metadata": {},
     "output_type": "display_data"
    }
   ],
   "source": [
    "?geom_density()\n",
    "head(counts(dds.original))"
   ]
  },
  {
   "cell_type": "markdown",
   "metadata": {},
   "source": [
    "Reshape the data to make it tidy:"
   ]
  },
  {
   "cell_type": "code",
   "execution_count": 20,
   "metadata": {},
   "outputs": [],
   "source": [
    "counts_melted_original <- gather(as.data.frame(counts(dds.original)), key = 'library', value = 'counts', SRR1039508:SRR1039521)\n",
    "counts_melted_filtered <- gather(as.data.frame(counts(dds)), key = 'library', value = 'counts', SRR1039508:SRR1039521)"
   ]
  },
  {
   "cell_type": "code",
   "execution_count": 21,
   "metadata": {},
   "outputs": [
    {
     "data": {
      "text/html": [
       "<table>\n",
       "<caption>A data.frame: 6 × 2</caption>\n",
       "<thead>\n",
       "\t<tr><th></th><th scope=col>library</th><th scope=col>counts</th></tr>\n",
       "\t<tr><th></th><th scope=col>&lt;chr&gt;</th><th scope=col>&lt;int&gt;</th></tr>\n",
       "</thead>\n",
       "<tbody>\n",
       "\t<tr><th scope=row>1</th><td>SRR1039508</td><td>679</td></tr>\n",
       "\t<tr><th scope=row>2</th><td>SRR1039508</td><td>  0</td></tr>\n",
       "\t<tr><th scope=row>3</th><td>SRR1039508</td><td>467</td></tr>\n",
       "\t<tr><th scope=row>4</th><td>SRR1039508</td><td>260</td></tr>\n",
       "\t<tr><th scope=row>5</th><td>SRR1039508</td><td> 60</td></tr>\n",
       "\t<tr><th scope=row>6</th><td>SRR1039508</td><td>  0</td></tr>\n",
       "</tbody>\n",
       "</table>\n"
      ],
      "text/latex": [
       "A data.frame: 6 × 2\n",
       "\\begin{tabular}{r|ll}\n",
       "  & library & counts\\\\\n",
       "  & <chr> & <int>\\\\\n",
       "\\hline\n",
       "\t1 & SRR1039508 & 679\\\\\n",
       "\t2 & SRR1039508 &   0\\\\\n",
       "\t3 & SRR1039508 & 467\\\\\n",
       "\t4 & SRR1039508 & 260\\\\\n",
       "\t5 & SRR1039508 &  60\\\\\n",
       "\t6 & SRR1039508 &   0\\\\\n",
       "\\end{tabular}\n"
      ],
      "text/markdown": [
       "\n",
       "A data.frame: 6 × 2\n",
       "\n",
       "| <!--/--> | library &lt;chr&gt; | counts &lt;int&gt; |\n",
       "|---|---|---|\n",
       "| 1 | SRR1039508 | 679 |\n",
       "| 2 | SRR1039508 |   0 |\n",
       "| 3 | SRR1039508 | 467 |\n",
       "| 4 | SRR1039508 | 260 |\n",
       "| 5 | SRR1039508 |  60 |\n",
       "| 6 | SRR1039508 |   0 |\n",
       "\n"
      ],
      "text/plain": [
       "  library    counts\n",
       "1 SRR1039508 679   \n",
       "2 SRR1039508   0   \n",
       "3 SRR1039508 467   \n",
       "4 SRR1039508 260   \n",
       "5 SRR1039508  60   \n",
       "6 SRR1039508   0   "
      ]
     },
     "metadata": {},
     "output_type": "display_data"
    }
   ],
   "source": [
    "head(counts_melted_original)"
   ]
  },
  {
   "cell_type": "code",
   "execution_count": 46,
   "metadata": {},
   "outputs": [
    {
     "name": "stderr",
     "output_type": "stream",
     "text": [
      "Warning message:\n",
      "“Removed 12151 rows containing non-finite values (stat_density).”\n",
      "Warning message:\n",
      "“Removed 12151 rows containing non-finite values (stat_density).”\n"
     ]
    },
    {
     "data": {
      "image/png": "[encoded data removed]",
      "text/plain": [
       "plot without title"
      ]
     },
     "metadata": {
      "image/png": {
       "height": 420,
       "width": 420
      }
     },
     "output_type": "display_data"
    },
    {
     "data": {
      "image/png": "[encoded data removed]",
      "text/plain": [
       "plot without title"
      ]
     },
     "metadata": {
      "image/png": {
       "height": 420,
       "width": 420
      }
     },
     "output_type": "display_data"
    }
   ],
   "source": [
    "ggplot(counts_melted_original, aes(x = counts)) + \n",
    "geom_density(aes(group = library, color = library), adjust = 5) + \n",
    "xlim(0, 2500) + \n",
    "ylim(0, .01)\n",
    "\n",
    "\n",
    "ggplot(counts_melted_filtered, aes(x = counts)) + \n",
    "geom_density(aes(group = library, color = library), adjust = 5) + \n",
    "xlim(0, 2500) + \n",
    "ylim(0, .01)\n",
    "\n",
    "\n"
   ]
  },
  {
   "cell_type": "code",
   "execution_count": 37,
   "metadata": {},
   "outputs": [],
   "source": [
    "?geom_density"
   ]
  },
  {
   "cell_type": "code",
   "execution_count": null,
   "metadata": {},
   "outputs": [],
   "source": [
    "MEI Count   Region\n",
    "-2.031  10  MidWest\n",
    "-1.999  0   MidWest\n",
    "-1.945  15  MidWest\n",
    "-1.944  1   MidWest\n",
    "-1.875  6   MidWest\n",
    "-1.873  10  MidWest\n",
    "-1.846  18  MidWest\n",
    "\n",
    "Region is the variable, so there is a South and NorthEast value as well, code is below:\n",
    "\n",
    "ggplot(d, aes(x=d$MEI, group=d$region)) + \n",
    "  geom_density(adjust=2) + \n",
    "  xlab(\"MEI\") +\n",
    "  ylab(\"Density\")\n"
   ]
  },
  {
   "cell_type": "code",
   "execution_count": 27,
   "metadata": {},
   "outputs": [
    {
     "data": {
      "image/png": "[encoded data removed]",
      "text/plain": [
       "Plot with title “Filtered Densities”"
      ]
     },
     "metadata": {
      "image/png": {
       "height": 240,
       "width": 420
      }
     },
     "output_type": "display_data"
    }
   ],
   "source": [
    "#use ggplot density plots here instead\n",
    "\n",
    "options(repr.plot.height=4, repr.plot.width=7)\n",
    "par(mfrow=c(1,2))\n",
    "\n",
    "plot(density(as.data.frame(counts(dds.original))$SRR1039508), xlim = c(0, 10000), ylim = c(0, .2), main = \"Raw Densities\", col = \"Blue\")\n",
    "lines(density(as.data.frame(counts(dds.original))$SRR1039509), col = \"Red\")\n",
    "lines(density(as.data.frame(counts(dds.original))$SRR1039512), col = \"Green\")\n",
    "lines(density(as.data.frame(counts(dds.original))$SRR1039513), col = \"Orange\")\n",
    "lines(density(as.data.frame(counts(dds.original))$SRR1039516), col = \"Purple\")\n",
    "lines(density(as.data.frame(counts(dds.original))$SRR1039517), col = \"Black\")\n",
    "lines(density(as.data.frame(counts(dds.original))$SRR1039520), col = \"Yellow\")\n",
    "lines(density(as.data.frame(counts(dds.original))$SRR1039521), col = \"Gray\")\n",
    "\n",
    "plot(density(as.data.frame(counts(dds))$SRR1039508), xlim = c(0, 2500), ylim = c(0, .01), main = \"Filtered Densities\", col = \"Blue\")\n",
    "lines(density(as.data.frame(counts(dds))$SRR1039509), col = \"Red\")\n",
    "lines(density(as.data.frame(counts(dds))$SRR1039512), col = \"Green\")\n",
    "lines(density(as.data.frame(counts(dds))$SRR1039513), col = \"Orange\")\n",
    "lines(density(as.data.frame(counts(dds))$SRR1039516), col = \"Purple\")\n",
    "lines(density(as.data.frame(counts(dds))$SRR1039517), col = \"Black\")\n",
    "lines(density(as.data.frame(counts(dds))$SRR1039520), col = \"Yellow\")\n",
    "lines(density(as.data.frame(counts(dds))$SRR1039521), col = \"Gray\")"
   ]
  },
  {
   "cell_type": "markdown",
   "metadata": {},
   "source": [
    "As we can see, **the count densities before and after filtration are radically different**, even with the raw densities portrayed over larger axis ranges. Before we ran the filtering, there were over 30,000 zero-count genes that were shifting the density so that almost all of the area under the curve is near 0.\n",
    "\n",
    "These genes do not contribute meaningful information to our analysis (and can even bias some of our analytical techniques) so we remove them.\n",
    "\n",
    "**Note**: For differential expression analysis later, filtering is \n",
    "allowable but not necessary if using [Independent Hypothesis Weighting](http://www.bioconductor.org/packages/IHW),\n",
    "as is the default behavior of `DESeq2`. Independent hypothesis weighting (IHW) is a multiple testing procedure that increases power compared to the method of Benjamini and Hochberg by assigning data-driven weights to each hypothesis."
   ]
  },
  {
   "cell_type": "markdown",
   "metadata": {},
   "source": [
    "<div class=\"alert alert-block alert-success\"><b>Exercise:</b> How many genes pass a more stringent filtering cutoff where the rowsums greater than 10? How does this affect the density plots? </div>"
   ]
  },
  {
   "cell_type": "markdown",
   "metadata": {},
   "source": [
    "## Data Transformation\n",
    "\n",
    "Why transform the data? Many common statistical methods for *exploratory* analysis of\n",
    "multidimensional data, for example clustering and *principal\n",
    "components analysis* (PCA), **work best for data that generally has the\n",
    "same variance across different values of the mean**. When\n",
    "the expected amount of variance is approximately the same across\n",
    "different mean values, the data is said to be *homoskedastic*. For\n",
    "RNA-seq count data, however, the expected variance grows with the mean. The problem with this mean-variance relationship is that **if one performs PCA directly on a matrix of counts or normalized counts (e.g. correcting for differences in sequencing depth), the resulting plot typically depends mostly on the genes with the *highest* counts because they show the largest absolute differences between samples**. Simply put, the genes with the highest counts (i.e., those that are more highly expressed) will dominate the analysis simply due to them having more variability. A simple and often used strategy to address this problem is to take the logarithm of the normalized\n",
    "count values plus a pseudocount of 1 (this pseudocount of 1 accounts for 0-count observations, as the log of 0 is undefined and the log of 1 is always 0, irrespective of base); however, this approach can also introduce problems; depending on the choice of pseudocount, the genes with the very *lowest* counts\n",
    "will now contribute a great deal of noise to the resulting plot, because\n",
    "taking the logarithm of small counts actually inflates their variance. As a solution, DESeq2 offers two additional transformations for count data that stabilize the variance across the mean: the regularized-logarithm transformation or rlog (Love, Huber, Anders, Genome Biology 2014); and the variance stabilizing transformation (VST) for negative binomial data with a dispersion-mean trend (Anders and Huber, Genome Biology 2010), implemented in the `vst` function."
   ]
  },
  {
   "cell_type": "markdown",
   "metadata": {},
   "source": [
    "First, lets quickly compare some scatterplots of counts transformed using these three different methods:"
   ]
  },
  {
   "cell_type": "code",
   "execution_count": null,
   "metadata": {},
   "outputs": [],
   "source": [
    "suppressMessages(library(vsn))\n",
    "suppressMessages(library(ggplot2))\n",
    "suppressMessages(library(patchwork))\n",
    "\n",
    "rld <- DESeq2::rlog(dds, blind = FALSE) #rlog\n",
    "vsd <- vst(dds, blind = FALSE) #vst\n",
    "ddsESF <- estimateSizeFactors(dds) #estimate size factors first\n",
    "logt <- data.frame(log2(counts(ddsESF, normalized=TRUE)[, 1:2] + 1)) #standard log2\n",
    "\n",
    "p1 <- ggplot(data.frame(assay(dds)[, 1:2]), aes(x = SRR1039508, y = SRR1039509)) + \n",
    "geom_point() + \n",
    "geom_abline(intercept = 0, slope = 1, color = 'blue', size = 2) +\n",
    "coord_fixed() +\n",
    "xlim(0,300000)+\n",
    "ylim(0,300000) +\n",
    "ggtitle('counts')\n",
    "\n",
    "p2 <- ggplot(logt, aes(x = SRR1039508, y = SRR1039509)) + \n",
    "geom_point() + \n",
    "geom_abline(intercept = 0, slope = 1, color = 'blue', size = 2) +\n",
    "coord_fixed() +\n",
    "xlim(0,19)+\n",
    "ylim(0,19) +\n",
    "ggtitle('log2')\n",
    "\n",
    "p3 <- ggplot(data.frame(assay(rld)[, 1:2]), aes(x = SRR1039508, y = SRR1039509)) + \n",
    "geom_point() + \n",
    "geom_abline(intercept = 0, slope = 1, color = 'blue', size = 2) +\n",
    "coord_fixed() +\n",
    "ggtitle('rlog')\n",
    "\n",
    "p4 <- ggplot(data.frame(assay(vsd)[, 1:2]), aes(x = SRR1039508, y = SRR1039509)) + \n",
    "geom_point() + \n",
    "geom_abline(intercept = 0, slope = 1, color = 'blue', size = 2) +\n",
    "coord_fixed() +\n",
    "xlim(0,19)+\n",
    "ylim(0,19) +\n",
    "ggtitle('vst')\n",
    "\n",
    "options(repr.plot.width=15, repr.plot.height=5)\n",
    "\n",
    "p1 | p2 | p3 | p4"
   ]
  },
  {
   "cell_type": "markdown",
   "metadata": {},
   "source": [
    "Here are some scatter plots showing the raw counts and the log2 (left), rlog (middle), and VST (right) transformed counts. The x and y axes are expression values in two samples from the `airway` data. Each black dot is a gene and its position on the plot indicates its expression levels in two of the `airway` data samples. The blue line is indicating the 1:1 line -- points closer to this line have similar expression values in sample x and in sample y. Genes in the bottom left corner are lowly expressed and genes in the upper right corner are highly expressed.    \n",
    "\n",
    "We can see how genes with low counts (bottom left-hand corner) are highly variable on the ordinary logarithmic scale (`log2`), while the `rlog` transform and `vst` compress differences for the low count genes. Since these low-count values are likely artifacts introduced by sequencing error or random chance, their exclusion helps to prevent false positives.  "
   ]
  },
  {
   "cell_type": "markdown",
   "metadata": {},
   "source": [
    "Plotting the standard deviation of each row (gene) against the mean is also helpful for understanding how data transformations impact the mean:variance relationship:"
   ]
  },
  {
   "cell_type": "code",
   "execution_count": null,
   "metadata": {},
   "outputs": [],
   "source": [
    "p5 <- meanSdPlot(counts(dds), ranks = FALSE, plot = FALSE)\n",
    "p6 <- meanSdPlot((log2(counts(ddsESF) + 1)), ranks = FALSE, plot = FALSE)\n",
    "p7 <- meanSdPlot(rlog(counts(dds)), ranks = FALSE, plot = FALSE)\n",
    "p8 <- meanSdPlot(vst(counts(dds), blind = FALSE), ranks = FALSE, plot = FALSE)\n",
    "\n",
    "p5$gg + ggtitle('counts')| p6$gg + ggtitle('log2') | p7$gg + ggtitle('rlog') | p8$gg + ggtitle('vst')  + scale_x_continuous(limits = c(0, 19))  "
   ]
  },
  {
   "cell_type": "markdown",
   "metadata": {},
   "source": [
    "**Note the differences in the axis scales**\n",
    "\n",
    "First, let's look at the `counts` plot on the far left and note the outliers in the upper right of the plot, each colored dark blue to show that very few genes fall within each point - these observations would cause a great deal of bias in the results if uncorrected.\n",
    "\n",
    "Moving to the `log2` plot, we see that transforming our data using the logarithm with a small pseudocount transformation (i.e., the standard log2 transformation) amplifies differences when the\n",
    "values are close to 0. As a result, the low count genes with low signal-to-noise\n",
    "ratio will now overly contribute to sample-sample distances and PCA\n",
    "plots.  \n",
    "\n",
    "For genes with high counts, the rlog and VST transformations will give results similar\n",
    "to that of the ordinary log2 transformation of normalized counts. **For genes\n",
    "with lower counts, the values are shrunken towards the genes'\n",
    "averages across all samples**. The rlog-transformed or VST data then\n",
    "becomes approximately homoskedastic, and can be used directly for\n",
    "computing distances between samples, making PCA plots, or as input to\n",
    "downstream methods which perform best with homoskedastic data.\n",
    "\n",
    "**Which transformation to choose?** The rlog tends to work well on\n",
    "small datasets (n < 30), sometimes outperforming the VST when there is\n",
    "a large range of sequencing depth across samples (an order of\n",
    "magnitude difference). However, the VST is much faster to compute and is less\n",
    "sensitive to high count outliers than the rlog. We therefore recommend\n",
    "the VST for large datasets (hundreds of samples). You can perform both\n",
    "transformations and compare the `meanSdPlot` or PCA plots generated,\n",
    "as described below.\n",
    "\n",
    "<div class=\"alert alert-block alert-warning\"><b>Note:</b> Using transformed or normalized counts is only for visualizing and exploring data -- statistical analysis packages like DESeq2 and edgeR should be used with raw counts matrices </div>\n",
    "\n",
    "In the above function calls, we specified `blind = FALSE`, which means\n",
    "that differences between cell lines and treatment (the variables in\n",
    "the design) will not contribute to the expected variance-mean trend of\n",
    "the experiment. The experimental design is not used directly in the\n",
    "transformation, only in estimating the global amount of variability in\n",
    "the counts.  For a fully *unsupervised* transformation, one can set\n",
    "`blind = TRUE` (which is the default).\n",
    "\n",
    "For the *log2* approach, we need to first estimate *size factors* to\n",
    "account for sequencing depth, and then specify `normalized=TRUE`.\n",
    "Sequencing depth correction is done automatically for the *rlog*\n",
    "and the *vst*.\n"
   ]
  },
  {
   "cell_type": "markdown",
   "metadata": {},
   "source": [
    "## Exploring data at the sample level\n",
    "\n",
    "A useful step in an RNA-seq analysis is often to assess overall similarity between samples: Which samples are similar to each other, which are different? Does this fit to the expectation from the experiment's design?\n",
    "\n",
    "### Boxplots\n",
    "\n",
    "Boxplots of the count distributions in each sample are a good way to understand the effects these transformations have at the level of individual subjects."
   ]
  },
  {
   "cell_type": "code",
   "execution_count": null,
   "metadata": {
    "scrolled": true
   },
   "outputs": [],
   "source": [
    "par(mfrow=c(1,3))\n",
    "boxplot(log2(assay(ddsESF)+1), las=2, main=\"log2(x+1)\")\n",
    "boxplot(assay(rld), las=2, main=\"rlog\")\n",
    "boxplot(assay(vsd), las=2, main=\"vst\")"
   ]
  },
  {
   "cell_type": "markdown",
   "metadata": {},
   "source": [
    "In R's boxplots, points classified as outliers are shown on the plots as circles. Neither the standard log2 or the rlog transformations include any outliers, while the vst transformations do have outliers at the upper end of the distributions.  These points are classified as outliers because the vst method compresses lower end points more substantially (which can be seen on the scatter plots above). The actual magnitude of these points does not significantly exceed the magnitude seen with the other transformations.\n",
    "\n",
    "In addition to the boxplot, put in a density plot that puts all the densities in one graph, another way to look at the distributions"
   ]
  },
  {
   "cell_type": "markdown",
   "metadata": {},
   "source": [
    "### Correlation plots\n",
    "\n",
    "    We can also use correlation plots (using the `ggpairs` function) to look at trends across samples:"
   ]
  },
  {
   "cell_type": "code",
   "execution_count": null,
   "metadata": {},
   "outputs": [],
   "source": [
    "suppressMessages(library(GGally))"
   ]
  },
  {
   "cell_type": "code",
   "execution_count": null,
   "metadata": {},
   "outputs": [],
   "source": [
    "?ggpairs"
   ]
  },
  {
   "cell_type": "code",
   "execution_count": null,
   "metadata": {},
   "outputs": [],
   "source": [
    "options(repr.plot.width=10, repr.plot.height=10)\n",
    "ggpairs(as.data.frame(log2(counts(ddsESF, normalized=TRUE) + 1)), title = 'log2(x+1)')\n"
   ]
  },
  {
   "cell_type": "code",
   "execution_count": null,
   "metadata": {},
   "outputs": [],
   "source": [
    "ggpairs(as.data.frame(rlog(counts(dds))), title = 'rlog')"
   ]
  },
  {
   "cell_type": "code",
   "execution_count": null,
   "metadata": {},
   "outputs": [],
   "source": [
    "ggpairs(as.data.frame(vst(counts(dds))), title = 'vst')"
   ]
  },
  {
   "cell_type": "markdown",
   "metadata": {},
   "source": [
    "Starting in the lower left corner of the `ggpairs` plot, we see several scatter plots that compare each of the samples. The scatter plots are just like the 1:1 plots shown earlier in this workshop, where each point is a gene and points that are closer to the 1:1 line show similar expression levels in the two samples compared. This lets us see if there are sample-specific differences and how many genes (points) are driving those differences. Distribution plots are shown on the diagonal -- we can see how each of these transformations influences the distribution of the counts -- note the axis ranges on the `vst` plots, which do not start at 0. The upper right corner shows the Pearson correlations."
   ]
  },
  {
   "cell_type": "markdown",
   "metadata": {},
   "source": [
    "We use the R function `dist` to calculate the \"Euclidean distance\" between samples; the Euclidean distance is simply the higher-dimensional analogue of the human-measurable distance between points in 2 or 3 dimensions. To ensure we have a roughly equal contribution from all genes, we calculate it from the rlog-transformed data. We need to transpose the matrix of values using t, because the dist function expects the different samples to be rows of its argument, and different dimensions (here, genes) to be columns."
   ]
  },
  {
   "cell_type": "markdown",
   "metadata": {},
   "source": [
    "First, we load some packages and transpose the matrix of the rlog counts:"
   ]
  },
  {
   "cell_type": "code",
   "execution_count": null,
   "metadata": {},
   "outputs": [],
   "source": [
    "library(pheatmap)\n",
    "library(RColorBrewer)"
   ]
  },
  {
   "cell_type": "code",
   "execution_count": null,
   "metadata": {},
   "outputs": [],
   "source": [
    "rld_t <- t(assay(rld))"
   ]
  },
  {
   "cell_type": "markdown",
   "metadata": {},
   "source": [
    "Then, we use the `dist` function to calculate the Euclidian distance between samples:"
   ]
  },
  {
   "cell_type": "code",
   "execution_count": null,
   "metadata": {},
   "outputs": [],
   "source": [
    "sampleDists <- dist(rld_t)"
   ]
  },
  {
   "cell_type": "markdown",
   "metadata": {},
   "source": [
    "Convert to a matrix"
   ]
  },
  {
   "cell_type": "code",
   "execution_count": null,
   "metadata": {},
   "outputs": [],
   "source": [
    "sampleDistMatrix <- as.matrix(sampleDists)\n",
    "sampleDistMatrix"
   ]
  },
  {
   "cell_type": "markdown",
   "metadata": {},
   "source": [
    "Set the row and column names:"
   ]
  },
  {
   "cell_type": "code",
   "execution_count": null,
   "metadata": {},
   "outputs": [],
   "source": [
    "rownames(sampleDistMatrix) <- paste( rld$dex, rld$cell, sep = \" - \" )\n",
    "colnames(sampleDistMatrix) <- NULL"
   ]
  },
  {
   "cell_type": "markdown",
   "metadata": {},
   "source": [
    "Set a color scheme for our heatmap:"
   ]
  },
  {
   "cell_type": "code",
   "execution_count": null,
   "metadata": {},
   "outputs": [],
   "source": [
    "library(RColorBrewer)"
   ]
  },
  {
   "cell_type": "code",
   "execution_count": null,
   "metadata": {},
   "outputs": [],
   "source": [
    "colors <- colorRampPalette( rev(brewer.pal(9, \"Blues\")) )(255)"
   ]
  },
  {
   "cell_type": "code",
   "execution_count": null,
   "metadata": {},
   "outputs": [],
   "source": []
  },
  {
   "cell_type": "code",
   "execution_count": null,
   "metadata": {},
   "outputs": [],
   "source": []
  },
  {
   "cell_type": "code",
   "execution_count": null,
   "metadata": {},
   "outputs": [],
   "source": [
    "\n",
    "\n",
    "\n",
    "colors <- colorRampPalette( rev(brewer.pal(9, \"Blues\")) )(255)\n",
    "pheatmap(sampleDistMatrix,\n",
    "         clustering_distance_rows = sampleDists,\n",
    "         clustering_distance_cols = sampleDists,\n",
    "         col = colors)\n",
    "\n"
   ]
  },
  {
   "cell_type": "markdown",
   "metadata": {},
   "source": [
    "## PCA plot \n",
    "note to self: go over the PCA and MDS stuff and make sure there's no coding problems, we would expect the plots to look a little different if we change the #s of genes.. if they don't look different then maybe rework this section a little to talk about the default settings in plotPCA and how that might impact the results (if the #s fo genes are low it might make the clutsering look neater/more separated bc ntop is using the top DE genes (not random genes)).\n",
    "\n",
    "Another way to visualize sample-to-sample distances is a\n",
    "principal components analysis (PCA). In this ordination method, the\n",
    "data points (here, the samples) are projected onto the 2D plane\n",
    "such that they spread out in the two directions that explain most of\n",
    "the differences (figure below). The x-axis is the direction (i.e., principal component) that separates the data\n",
    "points the most. The values of the samples in this direction are\n",
    "written *PC1* (\"principal component 1\"). The y-axis is a direction (another principal component, which must be *orthogonal* - perpendicular - to\n",
    "the first direction) that separates the data the second most. The\n",
    "values of the samples in this direction are written *PC2*.\n",
    "The percent of the total variance that is contained in the direction\n",
    "is printed in the axis label. Note that these percentages do not add to\n",
    "100%, because there are more dimensions - often many of them - that contain the remaining\n",
    "variance (although each of these remaining dimensions will by definition explain\n",
    "less than the two that we see)."
   ]
  },
  {
   "cell_type": "code",
   "execution_count": null,
   "metadata": {},
   "outputs": [],
   "source": [
    "colData(rld)\n",
    "plotPCA(rld, intgroup = c(\"dex\", \"cell\"))"
   ]
  },
  {
   "cell_type": "markdown",
   "metadata": {},
   "source": [
    "<div class=\"alert alert-block alert-success\"><b>Exercise:</b> If you look at `?plotPCA`, you'll see that the default behavior of `plotPCA` is to plot the top 500 genes. Does the PCA change if you change those settings and set `ntop = 50`?  </div>"
   ]
  },
  {
   "cell_type": "markdown",
   "metadata": {},
   "source": [
    "**PCA plot using the rlog-transformed values.** Each unique combination of\n",
    "treatment and cell line is given its own color.\n",
    "\n",
    "Here, we have used the function `plotPCA()` that comes with *DESeq2*.\n",
    "The two terms specified by `intgroup` are the interesting groups for\n",
    "labeling the samples; they tell the function to use them to choose\n",
    "colors. We can also build the PCA plot from scratch using the\n",
    "[ggplot2](https://cran.r-project.org/web/packages/ggplot2/index.html) package.\n",
    "This is done by asking the `plotPCA()` function\n",
    "to return the data used for plotting rather than building the plot.\n",
    "See the *ggplot2* [documentation](http://docs.ggplot2.org/current/)\n",
    "for more details on using `ggplot()`."
   ]
  },
  {
   "cell_type": "code",
   "execution_count": null,
   "metadata": {},
   "outputs": [],
   "source": [
    "pcaData <- plotPCA(rld, intgroup = c( \"dex\", \"cell\"), returnData = TRUE)\n",
    "pcaData\n",
    "percentVar <- round(100 * attr(pcaData, \"percentVar\"))"
   ]
  },
  {
   "cell_type": "markdown",
   "metadata": {},
   "source": [
    "We can then use this structure to build up a second plot in a figure below, specifying that the\n",
    "color of the points should reflect dexamethasone treatment and the\n",
    "shape should reflect the cell line."
   ]
  },
  {
   "cell_type": "code",
   "execution_count": null,
   "metadata": {},
   "outputs": [],
   "source": [
    "ggplot(pcaData, aes(x = PC1, y = PC2, color = dex, shape = cell)) +\n",
    "  geom_point(size =3) +\n",
    "  xlab(paste0(\"PC1: \", percentVar[1], \"% variance\")) +\n",
    "  ylab(paste0(\"PC2: \", percentVar[2], \"% variance\")) +\n",
    "  coord_fixed()"
   ]
  },
  {
   "cell_type": "markdown",
   "metadata": {},
   "source": [
    "**PCA plot using the rlog-transformed values with custom *ggplot2* code.**\n",
    "Here we specify cell line (plotting symbol) and dexamethasone treatment (color).\n",
    "\n",
    "From the PCA plot, we see that the differences between cells (the\n",
    "different plotting shapes) are considerable, though not stronger than the differences due to\n",
    "treatment with dexamethasone (red vs blue color). This shows why it will be important to\n",
    "account for this in differential testing by using a paired design\n",
    "(\"paired\", because each dex treated sample is paired with one\n",
    "untreated sample from the *same* cell line). We are already set up for\n",
    "this design by assigning the formula `~ cell + dex` earlier when specifying our model.\n",
    "\n",
    "**A note on outlier detection:** there are no hard, fast rules for identifying outliers; however, PCA can provide you with useful information for making decisions about which samples may be outliers. One general approach is to visually inspect the PCA bi-plot produced by the `plotPCA` function (i.e., the plot visualizing the samples along the two principal components explaining the most variance). Samples that are outliers will be many of orders of magnitude away from the main group of samples along principal component 1; the difference should be easy to identify visually and usually will not require statistical justification. A second approach is to quantify outliers using z-score standardization. Specifically, you take the principal component 1 values from your PCA object and convert them to z-scores using the following standardization: \n",
    "\n",
    "x_{gi} \\leftarrow \\frac{(x_{gi} - \\bar{x}_g)}{s_g}  \n",
    "\n",
    "In our context, this just means we take each value on the first principal component, subtract it from the mean of all the values on the first principal component, and then divide this difference by the standard deviation of all the values on the first principal component. To do so, we would access the first principal component from our PCA object using pcaData$PC1 and standardize these scores using scale(pcaData$PC1). Once you have the standardized scores, outliers can be identified as z-scores greater than 3 or 6 in absolute value, depending on how conservative one wishes to be.\n",
    "\n",
    "**Note:** It is important to note that the two aforementioned approaches are just general guidelines and identification of outliers requires statistical knowledge as well as detailed knowledge of experimental details, lab techniques used, etc. It is advised that you consult with a statistician when making such decisions. \n",
    "\n",
    "\n",
    "\n",
    "## MDS plot\n",
    "\n",
    "Another plot, very similar to the PCA plot, can be made using the \n",
    "*multidimensional scaling* (MDS) function in base R. MDS is a useful technique for examining sample-to-sample distances that is **used when we don't have the original data, but instead have only a matrix of distances**. Here we compute the MDS for the distances calculated from the *rlog*\n",
    "transformed counts and plot these in a figure below.\n",
    "\n",
    "This method, unlike PCA, does not show the percent of variance explained by the individual components."
   ]
  },
  {
   "cell_type": "markdown",
   "metadata": {},
   "source": [
    "**MDS plot using rlog-transformed values.**"
   ]
  },
  {
   "cell_type": "code",
   "execution_count": null,
   "metadata": {},
   "outputs": [],
   "source": [
    "sampleDists <- dist(t(assay(rld)))\n",
    "sampleDistMatrix <- as.matrix( sampleDists )\n",
    "mds <- cbind(as.data.frame(colData(rld)), cmdscale(sampleDistMatrix))\n",
    "ggplot(mds, aes(x = `1`, y = `2`, color = dex, shape = cell)) +\n",
    "  geom_point(size = 3) + coord_fixed()"
   ]
  },
  {
   "cell_type": "markdown",
   "metadata": {},
   "source": [
    "**MDS plot using the Poisson Distance.**"
   ]
  },
  {
   "cell_type": "code",
   "execution_count": null,
   "metadata": {},
   "outputs": [],
   "source": [
    "library(PoiClaClu)\n",
    "poisd <- PoissonDistance(t(counts(ddsESF)))\n",
    "samplePoisDistMatrix <- as.matrix( poisd$dd )\n",
    "rownames(samplePoisDistMatrix) <- paste( rld$dex, rld$cell, sep=\" - \" )\n",
    "\n",
    "mdsPois <- cbind(as.data.frame(colData(ddsESF)),\n",
    "   cmdscale(samplePoisDistMatrix))\n",
    "ggplot(mdsPois, aes(x = `1`, y = `2`, color = dex, shape = cell)) +\n",
    "  geom_point(size = 3) + coord_fixed()\n",
    "\n"
   ]
  },
  {
   "cell_type": "markdown",
   "metadata": {},
   "source": [
    "**A key difference between PCA and MDS is that PCA preserves the covariance of the data, while MDS preserves the distance between the data points. Depending on what type of distance you use for your MDS analysis, these two results can be the same (if Euclidean distance is used) or different.  Here, we have used the Poisson distance (since it takes the structure of the variance into account), so the MDS and PCA results are not the same.**"
   ]
  },
  {
   "cell_type": "code",
   "execution_count": null,
   "metadata": {},
   "outputs": [],
   "source": []
  },
  {
   "cell_type": "markdown",
   "metadata": {},
   "source": [
    "# Using biomaRt\n",
    "\n",
    "The biomaRt package makes it easy to query public repositories of biological data. We can use biomaRt to query Ensembl for annotations so that we can look for genes of interest in our data. We can use a list of 'housekeeping genes' which are typically considered to be stably expressed and shouldn't show large variations across different samples. We have selected a list of genes based on two publications that queried public cancer genome data to find housekeeping genes for use with RNA-seq from cancer cell lines (https://doi.org/10.1186/s12859-019-2809-2, https://doi.org/10.3389/fgene.2019.00097). \n",
    "\n",
    "Put some info about options for getting annotations (like annotationhub or txdb or whatever).\n"
   ]
  },
  {
   "cell_type": "markdown",
   "metadata": {},
   "source": [
    "First, let's load biomaRt and make a vector of the gene symbols from the published data:"
   ]
  },
  {
   "cell_type": "code",
   "execution_count": null,
   "metadata": {},
   "outputs": [],
   "source": [
    "suppressMessages(library(biomaRt))\n",
    "housekeeping <- c('PCBP1','RER1', 'RPN1', 'PUM1', 'IPO8')"
   ]
  },
  {
   "cell_type": "markdown",
   "metadata": {},
   "source": [
    "Then we can see what BioMarts are available:"
   ]
  },
  {
   "cell_type": "code",
   "execution_count": null,
   "metadata": {},
   "outputs": [],
   "source": [
    "listMarts()"
   ]
  },
  {
   "cell_type": "markdown",
   "metadata": {},
   "source": [
    "Let's use `ENSEMBL_MART_ENSEMBL` "
   ]
  },
  {
   "cell_type": "code",
   "execution_count": null,
   "metadata": {},
   "outputs": [],
   "source": [
    "ensembl <- useEnsembl(biomart = 'ENSEMBL_MART_ENSEMBL', mirror = 'uswest')"
   ]
  },
  {
   "cell_type": "markdown",
   "metadata": {},
   "source": [
    "Then we can see which datasets are available for `hsapiens`"
   ]
  },
  {
   "cell_type": "code",
   "execution_count": null,
   "metadata": {},
   "outputs": [],
   "source": [
    "searchDatasets(mart = ensembl, pattern = 'hsapiens')"
   ]
  },
  {
   "cell_type": "markdown",
   "metadata": {},
   "source": [
    "Now we can put it all together to create a BioMart object:"
   ]
  },
  {
   "cell_type": "code",
   "execution_count": null,
   "metadata": {},
   "outputs": [],
   "source": [
    "ensembl <- useEnsembl(biomart = 'ENSEMBL_MART_ENSEMBL', mirror = 'uswest', dataset='hsapiens_gene_ensembl')"
   ]
  },
  {
   "cell_type": "markdown",
   "metadata": {},
   "source": [
    "We can use the `listAttributes` function to see what information is available in `ensembl`"
   ]
  },
  {
   "cell_type": "code",
   "execution_count": null,
   "metadata": {},
   "outputs": [],
   "source": [
    "head(listAttributes(ensembl))"
   ]
  },
  {
   "cell_type": "code",
   "execution_count": null,
   "metadata": {},
   "outputs": [],
   "source": [
    "We can use `getBM` to query the BioMart object:"
   ]
  },
  {
   "cell_type": "code",
   "execution_count": null,
   "metadata": {},
   "outputs": [],
   "source": [
    "ensembl_bm <- getBM(attributes = c('ensembl_gene_id','hgnc_symbol'),\n",
    "      filters = 'hgnc_symbol',\n",
    "      values = housekeeping, \n",
    "      mart = ensembl)\n",
    "ensembl_bm"
   ]
  },
  {
   "cell_type": "markdown",
   "metadata": {},
   "source": [
    "Let's look at the `rlog` normalized counts for our housekeeping genes:"
   ]
  },
  {
   "cell_type": "code",
   "execution_count": null,
   "metadata": {},
   "outputs": [],
   "source": [
    "housekeeping_rld <- data.frame(assay(rld)[ensembl_bm$ensembl_gene_id, ])\n",
    "head(housekeeping_rld)"
   ]
  },
  {
   "cell_type": "code",
   "execution_count": null,
   "metadata": {},
   "outputs": [],
   "source": [
    "#install.packages('tidyr')\n",
    "library(tidyr)"
   ]
  },
  {
   "cell_type": "markdown",
   "metadata": {},
   "source": [
    "The `ensembl_gene_id` is currently stored as the rownames. Let's go ahead and turn it into a column in the data frame:"
   ]
  },
  {
   "cell_type": "code",
   "execution_count": null,
   "metadata": {},
   "outputs": [],
   "source": [
    "housekeeping_rld$ensembl_gene_id <- rownames(housekeeping_rld)\n",
    "head(housekeeping_rld)"
   ]
  },
  {
   "cell_type": "markdown",
   "metadata": {},
   "source": [
    "Then we use the `gather` function to convert the data to a long format."
   ]
  },
  {
   "cell_type": "code",
   "execution_count": null,
   "metadata": {},
   "outputs": [],
   "source": [
    "housekeeping_rld_tidy <- gather(housekeeping_rld, key = 'sample', value = 'rlog_counts', SRR1039508:SRR1039521)\n",
    "head(housekeeping_rld_tidy)"
   ]
  },
  {
   "cell_type": "markdown",
   "metadata": {},
   "source": [
    "Let's add the annotation information we pulled from biomaRt:"
   ]
  },
  {
   "cell_type": "code",
   "execution_count": null,
   "metadata": {},
   "outputs": [],
   "source": [
    "housekeeping_rld_tidy <- inner_join(ensembl_bm, housekeeping_rld_tidy)\n",
    "head(housekeeping_rld_tidy)"
   ]
  },
  {
   "cell_type": "markdown",
   "metadata": {},
   "source": [
    "Let's look at the expression of our housekeeping genes to make sure they look stably expressed in our data:"
   ]
  },
  {
   "cell_type": "code",
   "execution_count": null,
   "metadata": {},
   "outputs": [],
   "source": [
    "ggplot(housekeeping_rld_tidy, aes(x=sample, y=rlog_counts)) + \n",
    "geom_bar(stat=\"identity\") +\n",
    "facet_wrap(~hgnc_symbol, nrow = 1) +\n",
    "theme(axis.text.x = element_text(angle = 90))"
   ]
  },
  {
   "cell_type": "markdown",
   "metadata": {},
   "source": [
    "These housekeeping genes look stably expressed across each sample."
   ]
  }
 ],
 "metadata": {
  "kernelspec": {
   "display_name": "R",
   "language": "R",
   "name": "ir"
  },
  "language_info": {
   "codemirror_mode": "r",
   "file_extension": ".r",
   "mimetype": "text/x-r-source",
   "name": "R",
   "pygments_lexer": "r",
   "version": "4.0.3"
  }
 },
 "nbformat": 4,
 "nbformat_minor": 2
}
